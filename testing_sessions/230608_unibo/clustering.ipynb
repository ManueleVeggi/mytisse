{
 "cells": [
  {
   "cell_type": "code",
   "execution_count": 4,
   "metadata": {},
   "outputs": [
    {
     "name": "stdout",
     "output_type": "stream",
     "text": [
      "<class 'pandas.core.frame.DataFrame'>\n",
      "RangeIndex: 24 entries, 0 to 23\n",
      "Data columns (total 33 columns):\n",
      " #   Column           Non-Null Count  Dtype  \n",
      "---  ------           --------------  -----  \n",
      " 0   group_id         24 non-null     object \n",
      " 1   q2_music_dance   24 non-null     float64\n",
      " 2   q2_war           24 non-null     int64  \n",
      " 3   q2_color         24 non-null     int64  \n",
      " 4   q2_conservation  24 non-null     int64  \n",
      " 5   q2_cubism        24 non-null     float64\n",
      " 6   q3               24 non-null     int64  \n",
      " 7   q4_anger         24 non-null     int64  \n",
      " 8   q4_disgust       24 non-null     int64  \n",
      " 9   q4_fear          24 non-null     int64  \n",
      " 10  q4_interest      24 non-null     int64  \n",
      " 11  q4_joy           24 non-null     int64  \n",
      " 12  q4_sadness       24 non-null     float64\n",
      " 13  q4_surprise      24 non-null     int64  \n",
      " 14  q4_trust         24 non-null     int64  \n",
      " 15  q5               24 non-null     int64  \n",
      " 16  q9               24 non-null     int64  \n",
      " 17  q10_anger        24 non-null     float64\n",
      " 18  q10_disgust      24 non-null     int64  \n",
      " 19  q10_fear         24 non-null     int64  \n",
      " 20  q10_interest     24 non-null     int64  \n",
      " 21  q10_joy          24 non-null     int64  \n",
      " 22  q10_sadness      24 non-null     int64  \n",
      " 23  q10_surprise     24 non-null     int64  \n",
      " 24  q10_trust        24 non-null     int64  \n",
      " 25  q12_anger        24 non-null     int64  \n",
      " 26  q12_disgust      24 non-null     int64  \n",
      " 27  q12_fear         24 non-null     int64  \n",
      " 28  q12_interest     24 non-null     int64  \n",
      " 29  q12_joy          24 non-null     float64\n",
      " 30  q12_sadness      24 non-null     int64  \n",
      " 31  q12_surprise     24 non-null     int64  \n",
      " 32  q12_trust        0 non-null      float64\n",
      "dtypes: float64(6), int64(26), object(1)\n",
      "memory usage: 6.3+ KB\n"
     ]
    }
   ],
   "source": [
    "import pandas as pd\n",
    "import numpy as np\n",
    "from sklearn.cluster import KMeans\n",
    "import matplotlib.pyplot as plt\n",
    "\n",
    "mytisse_data = pd.read_csv(\"data/data_cleaned.csv\", sep=\";\")\n",
    "mytisse_clust = mytisse_data.drop(columns=['id', 'part_id', 'q1', 'q3_justification', 'q6', 'q7', 'q8', 'q11'])\n",
    "\n",
    "mapping = {'Palette A': 0, 'Palette B': 1}\n",
    "mapping_arth = {'No': 0, 'Yes, in high school': 1, 'Yes, at university': 1, 'Yes, in other contexts': 1}\n",
    "mytisse_clust['q3'] = mytisse_clust['q3'].map(mapping)\n",
    "mytisse_clust['q9'] = mytisse_clust['q9'].map(mapping_arth)\n",
    "\n",
    "mytisse_clust.info()"
   ]
  },
  {
   "cell_type": "code",
   "execution_count": 5,
   "metadata": {},
   "outputs": [
    {
     "data": {
      "image/png": "[encoded data removed]",
      "text/plain": [
       "<Figure size 432x288 with 1 Axes>"
      ]
     },
     "metadata": {
      "needs_background": "light"
     },
     "output_type": "display_data"
    }
   ],
   "source": [
    "# Extract the group column (assuming it is the first column)\n",
    "group_column = mytisse_clust.iloc[:, 0]\n",
    "\n",
    "# Extract the feature columns\n",
    "feature_columns = mytisse_clust.iloc[:, 1:]  # Assuming the features start from the second column\n",
    "\n",
    "# Replace NaN values with 0\n",
    "feature_columns.fillna(0, inplace=True)\n",
    "\n",
    "# Perform k-means clustering\n",
    "kmeans = KMeans(n_clusters=3)\n",
    "kmeans.fit(feature_columns)\n",
    "\n",
    "# Get the cluster labels\n",
    "labels = kmeans.labels_\n",
    "\n",
    "# Assign colors to the groups\n",
    "colors = {'A': 'green', 'B': 'blue', 'C': 'red'}\n",
    "group_colors = [colors.get(group, 'gray') for group in group_column]\n",
    "\n",
    "# Plot the clusters\n",
    "plt.scatter(feature_columns.iloc[:, 0], feature_columns.iloc[:, 1], c=group_colors)\n",
    "plt.xlabel('Feature 1')\n",
    "plt.ylabel('Feature 2')\n",
    "plt.title('Cluster Plot')\n",
    "plt.show()"
   ]
  }
 ],
 "metadata": {
  "kernelspec": {
   "display_name": "Python 3",
   "language": "python",
   "name": "python3"
  },
  "language_info": {
   "codemirror_mode": {
    "name": "ipython",
    "version": 3
   },
   "file_extension": ".py",
   "mimetype": "text/x-python",
   "name": "python",
   "nbconvert_exporter": "python",
   "pygments_lexer": "ipython3",
   "version": "3.10.0"
  },
  "orig_nbformat": 4
 },
 "nbformat": 4,
 "nbformat_minor": 2
}
